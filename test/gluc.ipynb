{
 "cells": [
  {
   "cell_type": "code",
   "execution_count": null,
   "id": "54209f38",
   "metadata": {},
   "outputs": [],
   "source": [
    "from pylibrelinkup import PyLibreLinkUp\n",
    "import creds\n",
    "\n",
    "client = PyLibreLinkUp(email=creds.email, password=creds.key)\n",
    "client.authenticate()"
   ]
  },
  {
   "cell_type": "code",
   "execution_count": 2,
   "id": "028c6d65",
   "metadata": {},
   "outputs": [],
   "source": [
    "patient_list = client.get_patients()\n",
    "patient = patient_list[0] # get the first patient (me)"
   ]
  },
  {
   "cell_type": "code",
   "execution_count": 3,
   "id": "66ff1693",
   "metadata": {},
   "outputs": [],
   "source": [
    "# get data for graph from server\n",
    "graph_data = client.graph(patient_identifier=patient)"
   ]
  },
  {
   "cell_type": "code",
   "execution_count": 4,
   "id": "1c946766",
   "metadata": {},
   "outputs": [
    {
     "name": "stdout",
     "output_type": "stream",
     "text": [
      "graph data (47 measurements):\n",
      "145.0 2025-06-01 01:47:59\n",
      "151.0 2025-06-01 02:03:01\n",
      "151.0 2025-06-01 02:18:04\n",
      "151.0 2025-06-01 02:33:07\n",
      "152.0 2025-06-01 02:48:10\n",
      "156.0 2025-06-01 03:03:14\n",
      "156.0 2025-06-01 03:18:16\n",
      "154.0 2025-06-01 03:33:19\n",
      "153.0 2025-06-01 03:48:23\n",
      "150.0 2025-06-01 04:03:25\n",
      "148.0 2025-06-01 04:18:29\n",
      "144.0 2025-06-01 04:33:32\n",
      "140.0 2025-06-01 04:48:34\n",
      "143.0 2025-06-01 05:03:38\n",
      "145.0 2025-06-01 05:18:40\n",
      "140.0 2025-06-01 05:33:44\n",
      "136.0 2025-06-01 05:48:46\n",
      "130.0 2025-06-01 06:03:48\n",
      "130.0 2025-06-01 06:18:51\n",
      "129.0 2025-06-01 06:33:55\n",
      "130.0 2025-06-01 06:48:58\n",
      "126.0 2025-06-01 07:03:59\n",
      "120.0 2025-06-01 07:19:03\n",
      "128.0 2025-06-01 07:34:05\n",
      "128.0 2025-06-01 07:49:08\n",
      "129.0 2025-06-01 08:04:12\n",
      "130.0 2025-06-01 08:19:13\n",
      "128.0 2025-06-01 08:34:17\n",
      "122.0 2025-06-01 08:49:19\n",
      "114.0 2025-06-01 09:04:22\n",
      "137.0 2025-06-01 09:19:25\n",
      "151.0 2025-06-01 09:34:28\n",
      "149.0 2025-06-01 09:49:31\n",
      "151.0 2025-06-01 10:04:33\n",
      "153.0 2025-06-01 10:19:37\n",
      "151.0 2025-06-01 10:34:39\n",
      "150.0 2025-06-01 10:49:43\n",
      "148.0 2025-06-01 11:04:45\n",
      "146.0 2025-06-01 11:19:48\n",
      "143.0 2025-06-01 11:34:51\n",
      "141.0 2025-06-01 11:49:53\n",
      "140.0 2025-06-01 12:04:56\n",
      "138.0 2025-06-01 12:20:00\n",
      "136.0 2025-06-01 12:35:02\n",
      "133.0 2025-06-01 12:50:05\n",
      "131.0 2025-06-01 13:05:08\n",
      "130.0 2025-06-01 13:20:11\n",
      "<class 'float'>\n",
      "<class 'datetime.datetime'>\n"
     ]
    }
   ],
   "source": [
    "print(f\"graph data ({len(graph_data)} measurements):\")\n",
    "\n",
    "for measurement in graph_data:\n",
    "    print(f\"{measurement.value} {measurement.timestamp}\")\n",
    "\n",
    "print(type(measurement.value))\n",
    "print(type(measurement.timestamp))"
   ]
  },
  {
   "cell_type": "markdown",
   "id": "4537bea1",
   "metadata": {},
   "source": [
    "## Now we graph this shit"
   ]
  },
  {
   "cell_type": "code",
   "execution_count": 5,
   "id": "32a1dd71",
   "metadata": {},
   "outputs": [
    {
     "name": "stdout",
     "output_type": "stream",
     "text": [
      "[145.0, 151.0, 151.0, 151.0, 152.0, 156.0, 156.0, 154.0, 153.0, 150.0, 148.0, 144.0, 140.0, 143.0, 145.0, 140.0, 136.0, 130.0, 130.0, 129.0, 130.0, 126.0, 120.0, 128.0, 128.0, 129.0, 130.0, 128.0, 122.0, 114.0, 137.0, 151.0, 149.0, 151.0, 153.0, 151.0, 150.0, 148.0, 146.0, 143.0, 141.0, 140.0, 138.0, 136.0, 133.0, 131.0, 130.0]\n",
      "[datetime.datetime(2025, 6, 1, 1, 47, 59), datetime.datetime(2025, 6, 1, 2, 3, 1), datetime.datetime(2025, 6, 1, 2, 18, 4), datetime.datetime(2025, 6, 1, 2, 33, 7), datetime.datetime(2025, 6, 1, 2, 48, 10), datetime.datetime(2025, 6, 1, 3, 3, 14), datetime.datetime(2025, 6, 1, 3, 18, 16), datetime.datetime(2025, 6, 1, 3, 33, 19), datetime.datetime(2025, 6, 1, 3, 48, 23), datetime.datetime(2025, 6, 1, 4, 3, 25), datetime.datetime(2025, 6, 1, 4, 18, 29), datetime.datetime(2025, 6, 1, 4, 33, 32), datetime.datetime(2025, 6, 1, 4, 48, 34), datetime.datetime(2025, 6, 1, 5, 3, 38), datetime.datetime(2025, 6, 1, 5, 18, 40), datetime.datetime(2025, 6, 1, 5, 33, 44), datetime.datetime(2025, 6, 1, 5, 48, 46), datetime.datetime(2025, 6, 1, 6, 3, 48), datetime.datetime(2025, 6, 1, 6, 18, 51), datetime.datetime(2025, 6, 1, 6, 33, 55), datetime.datetime(2025, 6, 1, 6, 48, 58), datetime.datetime(2025, 6, 1, 7, 3, 59), datetime.datetime(2025, 6, 1, 7, 19, 3), datetime.datetime(2025, 6, 1, 7, 34, 5), datetime.datetime(2025, 6, 1, 7, 49, 8), datetime.datetime(2025, 6, 1, 8, 4, 12), datetime.datetime(2025, 6, 1, 8, 19, 13), datetime.datetime(2025, 6, 1, 8, 34, 17), datetime.datetime(2025, 6, 1, 8, 49, 19), datetime.datetime(2025, 6, 1, 9, 4, 22), datetime.datetime(2025, 6, 1, 9, 19, 25), datetime.datetime(2025, 6, 1, 9, 34, 28), datetime.datetime(2025, 6, 1, 9, 49, 31), datetime.datetime(2025, 6, 1, 10, 4, 33), datetime.datetime(2025, 6, 1, 10, 19, 37), datetime.datetime(2025, 6, 1, 10, 34, 39), datetime.datetime(2025, 6, 1, 10, 49, 43), datetime.datetime(2025, 6, 1, 11, 4, 45), datetime.datetime(2025, 6, 1, 11, 19, 48), datetime.datetime(2025, 6, 1, 11, 34, 51), datetime.datetime(2025, 6, 1, 11, 49, 53), datetime.datetime(2025, 6, 1, 12, 4, 56), datetime.datetime(2025, 6, 1, 12, 20), datetime.datetime(2025, 6, 1, 12, 35, 2), datetime.datetime(2025, 6, 1, 12, 50, 5), datetime.datetime(2025, 6, 1, 13, 5, 8), datetime.datetime(2025, 6, 1, 13, 20, 11)]\n"
     ]
    },
    {
     "data": {
      "application/vnd.plotly.v1+json": {
       "config": {
        "plotlyServerURL": "https://plot.ly"
       },
       "data": [
        {
         "hovertemplate": "time (hh:mm)=%{x}<br>Glucose Reading (mg/dL)=%{y}<extra></extra>",
         "legendgroup": "",
         "line": {
          "color": "#636efa",
          "dash": "solid"
         },
         "marker": {
          "symbol": "circle"
         },
         "mode": "lines+markers",
         "name": "",
         "orientation": "v",
         "showlegend": false,
         "type": "scatter",
         "x": [
          "2025-06-01T01:47:59.000000000",
          "2025-06-01T02:03:01.000000000",
          "2025-06-01T02:18:04.000000000",
          "2025-06-01T02:33:07.000000000",
          "2025-06-01T02:48:10.000000000",
          "2025-06-01T03:03:14.000000000",
          "2025-06-01T03:18:16.000000000",
          "2025-06-01T03:33:19.000000000",
          "2025-06-01T03:48:23.000000000",
          "2025-06-01T04:03:25.000000000",
          "2025-06-01T04:18:29.000000000",
          "2025-06-01T04:33:32.000000000",
          "2025-06-01T04:48:34.000000000",
          "2025-06-01T05:03:38.000000000",
          "2025-06-01T05:18:40.000000000",
          "2025-06-01T05:33:44.000000000",
          "2025-06-01T05:48:46.000000000",
          "2025-06-01T06:03:48.000000000",
          "2025-06-01T06:18:51.000000000",
          "2025-06-01T06:33:55.000000000",
          "2025-06-01T06:48:58.000000000",
          "2025-06-01T07:03:59.000000000",
          "2025-06-01T07:19:03.000000000",
          "2025-06-01T07:34:05.000000000",
          "2025-06-01T07:49:08.000000000",
          "2025-06-01T08:04:12.000000000",
          "2025-06-01T08:19:13.000000000",
          "2025-06-01T08:34:17.000000000",
          "2025-06-01T08:49:19.000000000",
          "2025-06-01T09:04:22.000000000",
          "2025-06-01T09:19:25.000000000",
          "2025-06-01T09:34:28.000000000",
          "2025-06-01T09:49:31.000000000",
          "2025-06-01T10:04:33.000000000",
          "2025-06-01T10:19:37.000000000",
          "2025-06-01T10:34:39.000000000",
          "2025-06-01T10:49:43.000000000",
          "2025-06-01T11:04:45.000000000",
          "2025-06-01T11:19:48.000000000",
          "2025-06-01T11:34:51.000000000",
          "2025-06-01T11:49:53.000000000",
          "2025-06-01T12:04:56.000000000",
          "2025-06-01T12:20:00.000000000",
          "2025-06-01T12:35:02.000000000",
          "2025-06-01T12:50:05.000000000",
          "2025-06-01T13:05:08.000000000",
          "2025-06-01T13:20:11.000000000"
         ],
         "xaxis": "x",
         "y": {
          "bdata": "AAAAAAAgYkAAAAAAAOBiQAAAAAAA4GJAAAAAAADgYkAAAAAAAABjQAAAAAAAgGNAAAAAAACAY0AAAAAAAEBjQAAAAAAAIGNAAAAAAADAYkAAAAAAAIBiQAAAAAAAAGJAAAAAAACAYUAAAAAAAOBhQAAAAAAAIGJAAAAAAACAYUAAAAAAAABhQAAAAAAAQGBAAAAAAABAYEAAAAAAACBgQAAAAAAAQGBAAAAAAACAX0AAAAAAAABeQAAAAAAAAGBAAAAAAAAAYEAAAAAAACBgQAAAAAAAQGBAAAAAAAAAYEAAAAAAAIBeQAAAAAAAgFxAAAAAAAAgYUAAAAAAAOBiQAAAAAAAoGJAAAAAAADgYkAAAAAAACBjQAAAAAAA4GJAAAAAAADAYkAAAAAAAIBiQAAAAAAAQGJAAAAAAADgYUAAAAAAAKBhQAAAAAAAgGFAAAAAAABAYUAAAAAAAABhQAAAAAAAoGBAAAAAAABgYEAAAAAAAEBgQA==",
          "dtype": "f8"
         },
         "yaxis": "y"
        }
       ],
       "layout": {
        "legend": {
         "tracegroupgap": 0
        },
        "template": {
         "data": {
          "bar": [
           {
            "error_x": {
             "color": "#2a3f5f"
            },
            "error_y": {
             "color": "#2a3f5f"
            },
            "marker": {
             "line": {
              "color": "#E5ECF6",
              "width": 0.5
             },
             "pattern": {
              "fillmode": "overlay",
              "size": 10,
              "solidity": 0.2
             }
            },
            "type": "bar"
           }
          ],
          "barpolar": [
           {
            "marker": {
             "line": {
              "color": "#E5ECF6",
              "width": 0.5
             },
             "pattern": {
              "fillmode": "overlay",
              "size": 10,
              "solidity": 0.2
             }
            },
            "type": "barpolar"
           }
          ],
          "carpet": [
           {
            "aaxis": {
             "endlinecolor": "#2a3f5f",
             "gridcolor": "white",
             "linecolor": "white",
             "minorgridcolor": "white",
             "startlinecolor": "#2a3f5f"
            },
            "baxis": {
             "endlinecolor": "#2a3f5f",
             "gridcolor": "white",
             "linecolor": "white",
             "minorgridcolor": "white",
             "startlinecolor": "#2a3f5f"
            },
            "type": "carpet"
           }
          ],
          "choropleth": [
           {
            "colorbar": {
             "outlinewidth": 0,
             "ticks": ""
            },
            "type": "choropleth"
           }
          ],
          "contour": [
           {
            "colorbar": {
             "outlinewidth": 0,
             "ticks": ""
            },
            "colorscale": [
             [
              0,
              "#0d0887"
             ],
             [
              0.1111111111111111,
              "#46039f"
             ],
             [
              0.2222222222222222,
              "#7201a8"
             ],
             [
              0.3333333333333333,
              "#9c179e"
             ],
             [
              0.4444444444444444,
              "#bd3786"
             ],
             [
              0.5555555555555556,
              "#d8576b"
             ],
             [
              0.6666666666666666,
              "#ed7953"
             ],
             [
              0.7777777777777778,
              "#fb9f3a"
             ],
             [
              0.8888888888888888,
              "#fdca26"
             ],
             [
              1,
              "#f0f921"
             ]
            ],
            "type": "contour"
           }
          ],
          "contourcarpet": [
           {
            "colorbar": {
             "outlinewidth": 0,
             "ticks": ""
            },
            "type": "contourcarpet"
           }
          ],
          "heatmap": [
           {
            "colorbar": {
             "outlinewidth": 0,
             "ticks": ""
            },
            "colorscale": [
             [
              0,
              "#0d0887"
             ],
             [
              0.1111111111111111,
              "#46039f"
             ],
             [
              0.2222222222222222,
              "#7201a8"
             ],
             [
              0.3333333333333333,
              "#9c179e"
             ],
             [
              0.4444444444444444,
              "#bd3786"
             ],
             [
              0.5555555555555556,
              "#d8576b"
             ],
             [
              0.6666666666666666,
              "#ed7953"
             ],
             [
              0.7777777777777778,
              "#fb9f3a"
             ],
             [
              0.8888888888888888,
              "#fdca26"
             ],
             [
              1,
              "#f0f921"
             ]
            ],
            "type": "heatmap"
           }
          ],
          "histogram": [
           {
            "marker": {
             "pattern": {
              "fillmode": "overlay",
              "size": 10,
              "solidity": 0.2
             }
            },
            "type": "histogram"
           }
          ],
          "histogram2d": [
           {
            "colorbar": {
             "outlinewidth": 0,
             "ticks": ""
            },
            "colorscale": [
             [
              0,
              "#0d0887"
             ],
             [
              0.1111111111111111,
              "#46039f"
             ],
             [
              0.2222222222222222,
              "#7201a8"
             ],
             [
              0.3333333333333333,
              "#9c179e"
             ],
             [
              0.4444444444444444,
              "#bd3786"
             ],
             [
              0.5555555555555556,
              "#d8576b"
             ],
             [
              0.6666666666666666,
              "#ed7953"
             ],
             [
              0.7777777777777778,
              "#fb9f3a"
             ],
             [
              0.8888888888888888,
              "#fdca26"
             ],
             [
              1,
              "#f0f921"
             ]
            ],
            "type": "histogram2d"
           }
          ],
          "histogram2dcontour": [
           {
            "colorbar": {
             "outlinewidth": 0,
             "ticks": ""
            },
            "colorscale": [
             [
              0,
              "#0d0887"
             ],
             [
              0.1111111111111111,
              "#46039f"
             ],
             [
              0.2222222222222222,
              "#7201a8"
             ],
             [
              0.3333333333333333,
              "#9c179e"
             ],
             [
              0.4444444444444444,
              "#bd3786"
             ],
             [
              0.5555555555555556,
              "#d8576b"
             ],
             [
              0.6666666666666666,
              "#ed7953"
             ],
             [
              0.7777777777777778,
              "#fb9f3a"
             ],
             [
              0.8888888888888888,
              "#fdca26"
             ],
             [
              1,
              "#f0f921"
             ]
            ],
            "type": "histogram2dcontour"
           }
          ],
          "mesh3d": [
           {
            "colorbar": {
             "outlinewidth": 0,
             "ticks": ""
            },
            "type": "mesh3d"
           }
          ],
          "parcoords": [
           {
            "line": {
             "colorbar": {
              "outlinewidth": 0,
              "ticks": ""
             }
            },
            "type": "parcoords"
           }
          ],
          "pie": [
           {
            "automargin": true,
            "type": "pie"
           }
          ],
          "scatter": [
           {
            "fillpattern": {
             "fillmode": "overlay",
             "size": 10,
             "solidity": 0.2
            },
            "type": "scatter"
           }
          ],
          "scatter3d": [
           {
            "line": {
             "colorbar": {
              "outlinewidth": 0,
              "ticks": ""
             }
            },
            "marker": {
             "colorbar": {
              "outlinewidth": 0,
              "ticks": ""
             }
            },
            "type": "scatter3d"
           }
          ],
          "scattercarpet": [
           {
            "marker": {
             "colorbar": {
              "outlinewidth": 0,
              "ticks": ""
             }
            },
            "type": "scattercarpet"
           }
          ],
          "scattergeo": [
           {
            "marker": {
             "colorbar": {
              "outlinewidth": 0,
              "ticks": ""
             }
            },
            "type": "scattergeo"
           }
          ],
          "scattergl": [
           {
            "marker": {
             "colorbar": {
              "outlinewidth": 0,
              "ticks": ""
             }
            },
            "type": "scattergl"
           }
          ],
          "scattermap": [
           {
            "marker": {
             "colorbar": {
              "outlinewidth": 0,
              "ticks": ""
             }
            },
            "type": "scattermap"
           }
          ],
          "scattermapbox": [
           {
            "marker": {
             "colorbar": {
              "outlinewidth": 0,
              "ticks": ""
             }
            },
            "type": "scattermapbox"
           }
          ],
          "scatterpolar": [
           {
            "marker": {
             "colorbar": {
              "outlinewidth": 0,
              "ticks": ""
             }
            },
            "type": "scatterpolar"
           }
          ],
          "scatterpolargl": [
           {
            "marker": {
             "colorbar": {
              "outlinewidth": 0,
              "ticks": ""
             }
            },
            "type": "scatterpolargl"
           }
          ],
          "scatterternary": [
           {
            "marker": {
             "colorbar": {
              "outlinewidth": 0,
              "ticks": ""
             }
            },
            "type": "scatterternary"
           }
          ],
          "surface": [
           {
            "colorbar": {
             "outlinewidth": 0,
             "ticks": ""
            },
            "colorscale": [
             [
              0,
              "#0d0887"
             ],
             [
              0.1111111111111111,
              "#46039f"
             ],
             [
              0.2222222222222222,
              "#7201a8"
             ],
             [
              0.3333333333333333,
              "#9c179e"
             ],
             [
              0.4444444444444444,
              "#bd3786"
             ],
             [
              0.5555555555555556,
              "#d8576b"
             ],
             [
              0.6666666666666666,
              "#ed7953"
             ],
             [
              0.7777777777777778,
              "#fb9f3a"
             ],
             [
              0.8888888888888888,
              "#fdca26"
             ],
             [
              1,
              "#f0f921"
             ]
            ],
            "type": "surface"
           }
          ],
          "table": [
           {
            "cells": {
             "fill": {
              "color": "#EBF0F8"
             },
             "line": {
              "color": "white"
             }
            },
            "header": {
             "fill": {
              "color": "#C8D4E3"
             },
             "line": {
              "color": "white"
             }
            },
            "type": "table"
           }
          ]
         },
         "layout": {
          "annotationdefaults": {
           "arrowcolor": "#2a3f5f",
           "arrowhead": 0,
           "arrowwidth": 1
          },
          "autotypenumbers": "strict",
          "coloraxis": {
           "colorbar": {
            "outlinewidth": 0,
            "ticks": ""
           }
          },
          "colorscale": {
           "diverging": [
            [
             0,
             "#8e0152"
            ],
            [
             0.1,
             "#c51b7d"
            ],
            [
             0.2,
             "#de77ae"
            ],
            [
             0.3,
             "#f1b6da"
            ],
            [
             0.4,
             "#fde0ef"
            ],
            [
             0.5,
             "#f7f7f7"
            ],
            [
             0.6,
             "#e6f5d0"
            ],
            [
             0.7,
             "#b8e186"
            ],
            [
             0.8,
             "#7fbc41"
            ],
            [
             0.9,
             "#4d9221"
            ],
            [
             1,
             "#276419"
            ]
           ],
           "sequential": [
            [
             0,
             "#0d0887"
            ],
            [
             0.1111111111111111,
             "#46039f"
            ],
            [
             0.2222222222222222,
             "#7201a8"
            ],
            [
             0.3333333333333333,
             "#9c179e"
            ],
            [
             0.4444444444444444,
             "#bd3786"
            ],
            [
             0.5555555555555556,
             "#d8576b"
            ],
            [
             0.6666666666666666,
             "#ed7953"
            ],
            [
             0.7777777777777778,
             "#fb9f3a"
            ],
            [
             0.8888888888888888,
             "#fdca26"
            ],
            [
             1,
             "#f0f921"
            ]
           ],
           "sequentialminus": [
            [
             0,
             "#0d0887"
            ],
            [
             0.1111111111111111,
             "#46039f"
            ],
            [
             0.2222222222222222,
             "#7201a8"
            ],
            [
             0.3333333333333333,
             "#9c179e"
            ],
            [
             0.4444444444444444,
             "#bd3786"
            ],
            [
             0.5555555555555556,
             "#d8576b"
            ],
            [
             0.6666666666666666,
             "#ed7953"
            ],
            [
             0.7777777777777778,
             "#fb9f3a"
            ],
            [
             0.8888888888888888,
             "#fdca26"
            ],
            [
             1,
             "#f0f921"
            ]
           ]
          },
          "colorway": [
           "#636efa",
           "#EF553B",
           "#00cc96",
           "#ab63fa",
           "#FFA15A",
           "#19d3f3",
           "#FF6692",
           "#B6E880",
           "#FF97FF",
           "#FECB52"
          ],
          "font": {
           "color": "#2a3f5f"
          },
          "geo": {
           "bgcolor": "white",
           "lakecolor": "white",
           "landcolor": "#E5ECF6",
           "showlakes": true,
           "showland": true,
           "subunitcolor": "white"
          },
          "hoverlabel": {
           "align": "left"
          },
          "hovermode": "closest",
          "mapbox": {
           "style": "light"
          },
          "paper_bgcolor": "white",
          "plot_bgcolor": "#E5ECF6",
          "polar": {
           "angularaxis": {
            "gridcolor": "white",
            "linecolor": "white",
            "ticks": ""
           },
           "bgcolor": "#E5ECF6",
           "radialaxis": {
            "gridcolor": "white",
            "linecolor": "white",
            "ticks": ""
           }
          },
          "scene": {
           "xaxis": {
            "backgroundcolor": "#E5ECF6",
            "gridcolor": "white",
            "gridwidth": 2,
            "linecolor": "white",
            "showbackground": true,
            "ticks": "",
            "zerolinecolor": "white"
           },
           "yaxis": {
            "backgroundcolor": "#E5ECF6",
            "gridcolor": "white",
            "gridwidth": 2,
            "linecolor": "white",
            "showbackground": true,
            "ticks": "",
            "zerolinecolor": "white"
           },
           "zaxis": {
            "backgroundcolor": "#E5ECF6",
            "gridcolor": "white",
            "gridwidth": 2,
            "linecolor": "white",
            "showbackground": true,
            "ticks": "",
            "zerolinecolor": "white"
           }
          },
          "shapedefaults": {
           "line": {
            "color": "#2a3f5f"
           }
          },
          "ternary": {
           "aaxis": {
            "gridcolor": "white",
            "linecolor": "white",
            "ticks": ""
           },
           "baxis": {
            "gridcolor": "white",
            "linecolor": "white",
            "ticks": ""
           },
           "bgcolor": "#E5ECF6",
           "caxis": {
            "gridcolor": "white",
            "linecolor": "white",
            "ticks": ""
           }
          },
          "title": {
           "x": 0.05
          },
          "xaxis": {
           "automargin": true,
           "gridcolor": "white",
           "linecolor": "white",
           "ticks": "",
           "title": {
            "standoff": 15
           },
           "zerolinecolor": "white",
           "zerolinewidth": 2
          },
          "yaxis": {
           "automargin": true,
           "gridcolor": "white",
           "linecolor": "white",
           "ticks": "",
           "title": {
            "standoff": 15
           },
           "zerolinecolor": "white",
           "zerolinewidth": 2
          }
         }
        },
        "title": {
         "text": "CGM Glucose Graph"
        },
        "xaxis": {
         "anchor": "y",
         "domain": [
          0,
          1
         ],
         "title": {
          "text": "time (hh:mm)"
         }
        },
        "yaxis": {
         "anchor": "x",
         "domain": [
          0,
          1
         ],
         "range": [
          0,
          300
         ],
         "title": {
          "text": "Glucose Reading (mg/dL)"
         }
        }
       }
      }
     },
     "metadata": {},
     "output_type": "display_data"
    }
   ],
   "source": [
    "import plotly.express as px\n",
    "import time\n",
    "\n",
    "# extract the data\n",
    "data = [obj.value for obj in graph_data]\n",
    "timestamps = [obj.timestamp for obj in graph_data]\n",
    "print(data)\n",
    "print(timestamps)\n",
    "\n",
    "# put it in a graph\n",
    "fig = px.line(x=timestamps, y=data, markers=True, range_y=[0,300], title=\"CGM Glucose Graph\", labels={\"x\":\"time (hh:mm)\", \"y\":\"Glucose Reading (mg/dL)\"})\n",
    "# show the graph duh\n",
    "fig.show()"
   ]
  },
  {
   "cell_type": "code",
   "execution_count": 6,
   "id": "32ee552b",
   "metadata": {},
   "outputs": [
    {
     "data": {
      "text/html": [
       "\n",
       "        <iframe\n",
       "            width=\"100%\"\n",
       "            height=\"650\"\n",
       "            src=\"http://0.0.0.0:8050/\"\n",
       "            frameborder=\"0\"\n",
       "            allowfullscreen\n",
       "            \n",
       "        ></iframe>\n",
       "        "
      ],
      "text/plain": [
       "<IPython.lib.display.IFrame at 0x7faca3ff1e80>"
      ]
     },
     "metadata": {},
     "output_type": "display_data"
    }
   ],
   "source": [
    "# do website stuff (make it work with html idk)\n",
    "from dash import Dash, dcc, html\n",
    "app = Dash()\n",
    "app.layout = html.Div([\n",
    "    #html.H4('Interactive scatter plot with nada'),\n",
    "    dcc.Graph(id=\"scatter-plot\",figure=fig),\n",
    "])\n",
    "\n",
    "app.run(host=\"0.0.0.0\", port=8050)"
   ]
  }
 ],
 "metadata": {
  "kernelspec": {
   "display_name": "venv",
   "language": "python",
   "name": "python3"
  },
  "language_info": {
   "codemirror_mode": {
    "name": "ipython",
    "version": 3
   },
   "file_extension": ".py",
   "mimetype": "text/x-python",
   "name": "python",
   "nbconvert_exporter": "python",
   "pygments_lexer": "ipython3",
   "version": "3.13.3"
  }
 },
 "nbformat": 4,
 "nbformat_minor": 5
}
